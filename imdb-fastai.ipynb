{
 "cells": [
  {
   "cell_type": "code",
   "execution_count": 1,
   "metadata": {
    "colab": {
     "base_uri": "https://localhost:8080/",
     "height": 122
    },
    "colab_type": "code",
    "executionInfo": {
     "elapsed": 35883,
     "status": "ok",
     "timestamp": 1572616389707,
     "user": {
      "displayName": "Nitish Gupta",
      "photoUrl": "https://lh3.googleusercontent.com/a-/AAuE7mBLp0YcwRZrKqQiVzMjpSQ7uIBcQ3eAVHup9ltkDg=s64",
      "userId": "07930386250264186139"
     },
     "user_tz": -330
    },
    "id": "qIZRg5nE7zFS",
    "outputId": "b3d0defa-d245-44fd-a503-09b5cb2ca93b"
   },
   "outputs": [],
   "source": [
    "# from google.colab import drive\n",
    "# drive.mount('/content/gdrive', force_remount=True)\n",
    "# root_dir = \"/content/gdrive/My Drive/\"\n",
    "# base_dir = root_dir + 'fastai-v3/'"
   ]
  },
  {
   "cell_type": "code",
   "execution_count": 2,
   "metadata": {},
   "outputs": [],
   "source": [
    "import pandas as pd"
   ]
  },
  {
   "cell_type": "code",
   "execution_count": 3,
   "metadata": {
    "colab": {
     "base_uri": "https://localhost:8080/",
     "height": 51
    },
    "colab_type": "code",
    "executionInfo": {
     "elapsed": 42382,
     "status": "ok",
     "timestamp": 1572616396216,
     "user": {
      "displayName": "Nitish Gupta",
      "photoUrl": "https://lh3.googleusercontent.com/a-/AAuE7mBLp0YcwRZrKqQiVzMjpSQ7uIBcQ3eAVHup9ltkDg=s64",
      "userId": "07930386250264186139"
     },
     "user_tz": -330
    },
    "id": "M6yBz4xA68qz",
    "outputId": "d1ca4e88-53f4-48a1-ef33-77ac0d68b0d8"
   },
   "outputs": [
    {
     "name": "stdout",
     "output_type": "stream",
     "text": [
      "Updating fastai...\r\n",
      "Done.\r\n"
     ]
    }
   ],
   "source": [
    "!curl -s https://course.fast.ai/setup/colab | bash"
   ]
  },
  {
   "cell_type": "code",
   "execution_count": 4,
   "metadata": {},
   "outputs": [],
   "source": [
    "import random\n",
    "import os\n",
    "import numpy as np\n",
    "import torch\n",
    "\n",
    "def seed_everything(seed=69):\n",
    "   random.seed(seed)\n",
    "   os.environ['PYTHONHASHSEED'] = str(seed)\n",
    "   np.random.seed(seed)\n",
    "   torch.manual_seed(seed)\n",
    "   torch.cuda.manual_seed(seed)\n",
    "   torch.backends.cudnn.deterministic = True\n",
    "seed_everything()"
   ]
  },
  {
   "cell_type": "code",
   "execution_count": 5,
   "metadata": {
    "colab": {},
    "colab_type": "code",
    "id": "YKQQmBzj6ybx"
   },
   "outputs": [],
   "source": [
    "%reload_ext autoreload\n",
    "%autoreload 2\n",
    "%matplotlib inline"
   ]
  },
  {
   "cell_type": "code",
   "execution_count": 6,
   "metadata": {
    "colab": {},
    "colab_type": "code",
    "id": "X2srASG_6yb3"
   },
   "outputs": [],
   "source": [
    "from fastai import *\n",
    "from fastai.text import *"
   ]
  },
  {
   "cell_type": "code",
   "execution_count": 7,
   "metadata": {},
   "outputs": [],
   "source": [
    "language = pd.read_csv('../input/final-language-data/final (1).csv')"
   ]
  },
  {
   "cell_type": "code",
   "execution_count": 8,
   "metadata": {
    "colab": {
     "base_uri": "https://localhost:8080/",
     "height": 357
    },
    "colab_type": "code",
    "executionInfo": {
     "elapsed": 1575,
     "status": "ok",
     "timestamp": 1572618004714,
     "user": {
      "displayName": "Nitish Gupta",
      "photoUrl": "https://lh3.googleusercontent.com/a-/AAuE7mBLp0YcwRZrKqQiVzMjpSQ7uIBcQ3eAVHup9ltkDg=s64",
      "userId": "07930386250264186139"
     },
     "user_tz": -330
    },
    "id": "Idm6QEWp6ydP",
    "outputId": "6341ed39-25be-4612-85e5-02ae20179ec3"
   },
   "outputs": [],
   "source": [
    "# data.vocab.itos[:20]"
   ]
  },
  {
   "cell_type": "markdown",
   "metadata": {
    "colab_type": "text",
    "id": "f3Kv2LyU6yd3"
   },
   "source": [
    "## Language model"
   ]
  },
  {
   "cell_type": "code",
   "execution_count": 9,
   "metadata": {
    "colab": {
     "base_uri": "https://localhost:8080/",
     "height": 136
    },
    "colab_type": "code",
    "executionInfo": {
     "elapsed": 746,
     "status": "ok",
     "timestamp": 1572618838038,
     "user": {
      "displayName": "Nitish Gupta",
      "photoUrl": "https://lh3.googleusercontent.com/a-/AAuE7mBLp0YcwRZrKqQiVzMjpSQ7uIBcQ3eAVHup9ltkDg=s64",
      "userId": "07930386250264186139"
     },
     "user_tz": -330
    },
    "id": "dCn4pNnY6yeB",
    "outputId": "8d1998a1-b2a7-42a6-8e50-c16de1cc8ceb"
   },
   "outputs": [
    {
     "data": {
      "text/plain": [
       "[PosixPath('/tmp/.fastai/data/imdb/tmp_clas'),\n",
       " PosixPath('/tmp/.fastai/data/imdb/README'),\n",
       " PosixPath('/tmp/.fastai/data/imdb/imdb.vocab'),\n",
       " PosixPath('/tmp/.fastai/data/imdb/train'),\n",
       " PosixPath('/tmp/.fastai/data/imdb/unsup'),\n",
       " PosixPath('/tmp/.fastai/data/imdb/tmp_lm'),\n",
       " PosixPath('/tmp/.fastai/data/imdb/test')]"
      ]
     },
     "execution_count": 9,
     "metadata": {},
     "output_type": "execute_result"
    }
   ],
   "source": [
    "path = untar_data(URLs.IMDB)\n",
    "path.ls()"
   ]
  },
  {
   "cell_type": "code",
   "execution_count": 10,
   "metadata": {},
   "outputs": [],
   "source": [
    "from sklearn.model_selection import train_test_split\n",
    "# language, classification = train_test_split(t_reviews, test_size=0.4, random_state=69, shuffle=True, stratify=t_reviews['rating'])"
   ]
  },
  {
   "cell_type": "code",
   "execution_count": 11,
   "metadata": {},
   "outputs": [],
   "source": [
    "language = language.reset_index()"
   ]
  },
  {
   "cell_type": "code",
   "execution_count": 12,
   "metadata": {},
   "outputs": [],
   "source": [
    "for a in os.listdir('/tmp/.fastai/data/imdb/train/pos/')[:13000]:\n",
    "    with open(f'/tmp/.fastai/data/imdb/train/pos/{a}', 'r') as file:\n",
    "        data = file.read().replace('\\n', '')\n",
    "        dict1 = {'review': str(data), 'rating': str('pos')}\n",
    "        language = language.append(dict1, ignore_index=True)\n",
    "#         language.loc[7087+i]['review'] = data   "
   ]
  },
  {
   "cell_type": "code",
   "execution_count": 13,
   "metadata": {},
   "outputs": [],
   "source": [
    "for a in os.listdir('/tmp/.fastai/data/imdb/train/neg/')[:9000]:\n",
    "    with open(f'/tmp/.fastai/data/imdb/train/neg/{a}', 'r') as file:\n",
    "        data = file.read().replace('\\n', '')\n",
    "        dict1 = {'review': str(data), 'rating': str('neg')}\n",
    "        language = language.append(dict1, ignore_index=True)\n",
    "#         language.loc[7087+i]['review'] = data   "
   ]
  },
  {
   "cell_type": "code",
   "execution_count": 14,
   "metadata": {},
   "outputs": [],
   "source": [
    "language = language.drop('index', axis=1)\n",
    "language.to_csv('../working/language.csv', index=False)"
   ]
  },
  {
   "cell_type": "code",
   "execution_count": 15,
   "metadata": {
    "colab": {},
    "colab_type": "code",
    "id": "wf8s_v726ye4"
   },
   "outputs": [],
   "source": [
    "bs = 32\n",
    "data_lm = (TextList.from_csv(path='../working',csv_name='language.csv', cols='review')\n",
    "           #Inputs: all the text files in path\n",
    "#             .filter_by_folder(include=['train', 'test', 'unsup']) \n",
    "           #We may have other temp folders that contain text files so we only keep what's in train and test\n",
    "            .split_by_rand_pct(0.1)\n",
    "           #We randomly split and keep 10% (10,000 reviews) for validation\n",
    "            .label_for_lm()           \n",
    "           #We want to do a language model so we label accordingly\n",
    "            .databunch(bs=bs))\n",
    "data_lm.save('../working/data_lm.pkl')"
   ]
  },
  {
   "cell_type": "code",
   "execution_count": 16,
   "metadata": {},
   "outputs": [
    {
     "data": {
      "text/html": [
       "<table border=\"1\" class=\"dataframe\">\n",
       "  <thead>\n",
       "    <tr style=\"text-align: right;\">\n",
       "      <th>idx</th>\n",
       "      <th>text</th>\n",
       "    </tr>\n",
       "  </thead>\n",
       "  <tbody>\n",
       "    <tr>\n",
       "      <td>0</td>\n",
       "      <td>making that amazing fusion of xxmaj nacho xxmaj xxunk xxmaj chaat at xxmaj alchemy xxmaj bar on the rooftop . xxmaj chef xxmaj janet also was so kind and hospitable and she prepared the coolest pancakes for my daughter xxrep 4 . she said they were the best ever xxrep 4 . beat me to it xxmaj haha . xxmaj this hotel is close to everything . xxmaj definitely recommend</td>\n",
       "    </tr>\n",
       "    <tr>\n",
       "      <td>1</td>\n",
       "      <td>the xxmaj lalit xxmaj mumbai is a great place to stay because of 2 reasons primarily . xxmaj first , xxmaj hospitality by its staff like xxmaj ruby , xxmaj rahul , xxmaj pramila , xxmaj vaibhav , xxmaj sangram , xxmaj vishal . xxmaj second , care taken by xxup f&amp;b and xxmaj kitchen is amazing . xxmaj they make sure that they keep tab on your choices and</td>\n",
       "    </tr>\n",
       "    <tr>\n",
       "      <td>2</td>\n",
       "      <td>. xxmaj amazing experience had there ... xxmaj one of the best hotel in lucknow xxrep 4 . xxmaj had a great tym xxrep 4 . xxmaj must visit once .. xxbos xxmaj the staff is amazing and the food is amazing the restaurant staff xxunk sharma was at the best of his xxunk and was very attentive and patient , its very rare to see such a staff after</td>\n",
       "    </tr>\n",
       "    <tr>\n",
       "      <td>3</td>\n",
       "      <td>payment again . xxmaj so in my eyes , i felt like i paid twice and at this point i had no clue what the hell was going on . xxmaj first i should be served first as i was there before the other 3 , second - i should be communicated with and third , the server should observe and communicate better as my credit card clearly was not</td>\n",
       "    </tr>\n",
       "    <tr>\n",
       "      <td>4</td>\n",
       "      <td>xxmaj timm xxmaj hill , xxmaj read xxmaj scot , xxmaj james xxmaj hogan , xxmaj derek xxmaj givens ... xxmaj director xxmaj james xxmaj xxunk ... xxmaj screenplay xxmaj sam xxmaj egan , xxmaj john xxmaj paragon . \\n \\n  xxmaj elvira , xxmaj mistress of the xxmaj dark was an 80 's xxup tv icon who had her own late night show on cable . xxmaj she</td>\n",
       "    </tr>\n",
       "  </tbody>\n",
       "</table>"
      ],
      "text/plain": [
       "<IPython.core.display.HTML object>"
      ]
     },
     "metadata": {},
     "output_type": "display_data"
    }
   ],
   "source": [
    "data_lm.show_batch()"
   ]
  },
  {
   "cell_type": "code",
   "execution_count": 17,
   "metadata": {
    "colab": {},
    "colab_type": "code",
    "id": "JlYdkjj46yfC"
   },
   "outputs": [],
   "source": [
    "# data_lm = load_data(path, '../working/data_lm.pkl', bs=bs)"
   ]
  },
  {
   "cell_type": "markdown",
   "metadata": {
    "colab_type": "text",
    "id": "wOgDgkAV6yfT"
   },
   "source": [
    "We can then put this in a learner object very easily with a model loaded with the pretrained weights. They'll be downloaded the first time you'll execute the following line and stored in `~/.fastai/models/` (or elsewhere if you specified different paths in your config file)."
   ]
  },
  {
   "cell_type": "code",
   "execution_count": 18,
   "metadata": {
    "colab": {},
    "colab_type": "code",
    "id": "QEKgoMn76yfU"
   },
   "outputs": [],
   "source": [
    "from fastai.callbacks import *\n",
    "learn = language_model_learner(data_lm, AWD_LSTM, drop_mult=0.3, model_dir='../working/')"
   ]
  },
  {
   "cell_type": "code",
   "execution_count": 19,
   "metadata": {
    "colab": {
     "base_uri": "https://localhost:8080/",
     "height": 34
    },
    "colab_type": "code",
    "executionInfo": {
     "elapsed": 71094,
     "status": "ok",
     "timestamp": 1572620216885,
     "user": {
      "displayName": "Nitish Gupta",
      "photoUrl": "https://lh3.googleusercontent.com/a-/AAuE7mBLp0YcwRZrKqQiVzMjpSQ7uIBcQ3eAVHup9ltkDg=s64",
      "userId": "07930386250264186139"
     },
     "user_tz": -330
    },
    "id": "erLgUgZh6yfm",
    "outputId": "20435731-c456-47a9-9571-6aba1f283e80"
   },
   "outputs": [
    {
     "data": {
      "text/html": [],
      "text/plain": [
       "<IPython.core.display.HTML object>"
      ]
     },
     "metadata": {},
     "output_type": "display_data"
    },
    {
     "name": "stdout",
     "output_type": "stream",
     "text": [
      "LR Finder is complete, type {learner_name}.recorder.plot() to see the graph.\n"
     ]
    }
   ],
   "source": [
    "learn.lr_find()"
   ]
  },
  {
   "cell_type": "code",
   "execution_count": 20,
   "metadata": {
    "colab": {
     "base_uri": "https://localhost:8080/",
     "height": 279
    },
    "colab_type": "code",
    "executionInfo": {
     "elapsed": 71978,
     "status": "ok",
     "timestamp": 1572620217780,
     "user": {
      "displayName": "Nitish Gupta",
      "photoUrl": "https://lh3.googleusercontent.com/a-/AAuE7mBLp0YcwRZrKqQiVzMjpSQ7uIBcQ3eAVHup9ltkDg=s64",
      "userId": "07930386250264186139"
     },
     "user_tz": -330
    },
    "id": "l-FjultX6yfq",
    "outputId": "99146972-55e5-4695-f58e-c038d298df8d"
   },
   "outputs": [
    {
     "data": {
      "image/png": "[encoded data removed]",
      "text/plain": [
       "<Figure size 432x288 with 1 Axes>"
      ]
     },
     "metadata": {
      "needs_background": "light"
     },
     "output_type": "display_data"
    }
   ],
   "source": [
    "learn.recorder.plot(skip_end=15)"
   ]
  },
  {
   "cell_type": "code",
   "execution_count": 21,
   "metadata": {
    "colab": {
     "base_uri": "https://localhost:8080/",
     "height": 95
    },
    "colab_type": "code",
    "id": "yWUG4vOb6yfs",
    "outputId": "cf736025-ab57-4cdb-a345-4e8709bc1cb0"
   },
   "outputs": [
    {
     "data": {
      "text/html": [
       "<table border=\"1\" class=\"dataframe\">\n",
       "  <thead>\n",
       "    <tr style=\"text-align: left;\">\n",
       "      <th>epoch</th>\n",
       "      <th>train_loss</th>\n",
       "      <th>valid_loss</th>\n",
       "      <th>accuracy</th>\n",
       "      <th>time</th>\n",
       "    </tr>\n",
       "  </thead>\n",
       "  <tbody>\n",
       "    <tr>\n",
       "      <td>0</td>\n",
       "      <td>4.199586</td>\n",
       "      <td>4.052171</td>\n",
       "      <td>0.288776</td>\n",
       "      <td>04:30</td>\n",
       "    </tr>\n",
       "  </tbody>\n",
       "</table>"
      ],
      "text/plain": [
       "<IPython.core.display.HTML object>"
      ]
     },
     "metadata": {},
     "output_type": "display_data"
    }
   ],
   "source": [
    "learn.fit_one_cycle(1, 1e-2, moms=(0.8,0.7))"
   ]
  },
  {
   "cell_type": "code",
   "execution_count": 22,
   "metadata": {
    "colab": {},
    "colab_type": "code",
    "id": "s2aMLo626yfx"
   },
   "outputs": [],
   "source": [
    "learn.save('fit_head')"
   ]
  },
  {
   "cell_type": "code",
   "execution_count": 23,
   "metadata": {
    "colab": {},
    "colab_type": "code",
    "id": "hdRo6Pqe6ygJ"
   },
   "outputs": [],
   "source": [
    "learn.load('fit_head');"
   ]
  },
  {
   "cell_type": "code",
   "execution_count": 24,
   "metadata": {
    "colab": {},
    "colab_type": "code",
    "id": "QJdFE1IP6ygS"
   },
   "outputs": [],
   "source": [
    "learn.unfreeze()"
   ]
  },
  {
   "cell_type": "code",
   "execution_count": 25,
   "metadata": {
    "colab": {},
    "colab_type": "code",
    "id": "-sdsOMq76ygU",
    "outputId": "47ffdd2a-5a66-4bbe-aa08-a5f3e47a6342"
   },
   "outputs": [
    {
     "data": {
      "text/html": [
       "\n",
       "    <div>\n",
       "        <style>\n",
       "            /* Turns off some styling */\n",
       "            progress {\n",
       "                /* gets rid of default border in Firefox and Opera. */\n",
       "                border: none;\n",
       "                /* Needs to be in here for Safari polyfill so background images work as expected. */\n",
       "                background-size: auto;\n",
       "            }\n",
       "            .progress-bar-interrupted, .progress-bar-interrupted::-webkit-progress-bar {\n",
       "                background: #F44336;\n",
       "            }\n",
       "        </style>\n",
       "      <progress value='8' class='' max='10', style='width:300px; height:20px; vertical-align: middle;'></progress>\n",
       "      80.00% [8/10 42:35<10:38]\n",
       "    </div>\n",
       "    \n",
       "<table border=\"1\" class=\"dataframe\">\n",
       "  <thead>\n",
       "    <tr style=\"text-align: left;\">\n",
       "      <th>epoch</th>\n",
       "      <th>train_loss</th>\n",
       "      <th>valid_loss</th>\n",
       "      <th>accuracy</th>\n",
       "      <th>time</th>\n",
       "    </tr>\n",
       "  </thead>\n",
       "  <tbody>\n",
       "    <tr>\n",
       "      <td>0</td>\n",
       "      <td>3.850243</td>\n",
       "      <td>3.924560</td>\n",
       "      <td>0.300979</td>\n",
       "      <td>05:20</td>\n",
       "    </tr>\n",
       "    <tr>\n",
       "      <td>1</td>\n",
       "      <td>3.825099</td>\n",
       "      <td>3.863237</td>\n",
       "      <td>0.308523</td>\n",
       "      <td>05:18</td>\n",
       "    </tr>\n",
       "    <tr>\n",
       "      <td>2</td>\n",
       "      <td>3.778350</td>\n",
       "      <td>3.829984</td>\n",
       "      <td>0.313242</td>\n",
       "      <td>05:18</td>\n",
       "    </tr>\n",
       "    <tr>\n",
       "      <td>3</td>\n",
       "      <td>3.668321</td>\n",
       "      <td>3.811476</td>\n",
       "      <td>0.316284</td>\n",
       "      <td>05:22</td>\n",
       "    </tr>\n",
       "    <tr>\n",
       "      <td>4</td>\n",
       "      <td>3.560770</td>\n",
       "      <td>3.802444</td>\n",
       "      <td>0.319024</td>\n",
       "      <td>05:19</td>\n",
       "    </tr>\n",
       "    <tr>\n",
       "      <td>5</td>\n",
       "      <td>3.487836</td>\n",
       "      <td>3.802206</td>\n",
       "      <td>0.319374</td>\n",
       "      <td>05:17</td>\n",
       "    </tr>\n",
       "    <tr>\n",
       "      <td>6</td>\n",
       "      <td>3.416113</td>\n",
       "      <td>3.810034</td>\n",
       "      <td>0.319867</td>\n",
       "      <td>05:18</td>\n",
       "    </tr>\n",
       "    <tr>\n",
       "      <td>7</td>\n",
       "      <td>3.306204</td>\n",
       "      <td>3.820594</td>\n",
       "      <td>0.319894</td>\n",
       "      <td>05:19</td>\n",
       "    </tr>\n",
       "  </tbody>\n",
       "</table><p>\n",
       "\n",
       "    <div>\n",
       "        <style>\n",
       "            /* Turns off some styling */\n",
       "            progress {\n",
       "                /* gets rid of default border in Firefox and Opera. */\n",
       "                border: none;\n",
       "                /* Needs to be in here for Safari polyfill so background images work as expected. */\n",
       "                background-size: auto;\n",
       "            }\n",
       "            .progress-bar-interrupted, .progress-bar-interrupted::-webkit-progress-bar {\n",
       "                background: #F44336;\n",
       "            }\n",
       "        </style>\n",
       "      <progress value='2382' class='' max='2975', style='width:300px; height:20px; vertical-align: middle;'></progress>\n",
       "      80.07% [2382/2975 04:06<01:01 3.2349]\n",
       "    </div>\n",
       "    "
      ],
      "text/plain": [
       "<IPython.core.display.HTML object>"
      ]
     },
     "metadata": {},
     "output_type": "display_data"
    }
   ],
   "source": [
    "learn.fit_one_cycle(10, 1e-3/2, moms=(0.8,0.7))"
   ]
  },
  {
   "cell_type": "code",
   "execution_count": 26,
   "metadata": {
    "colab": {},
    "colab_type": "code",
    "id": "-76SMGUi6ygY"
   },
   "outputs": [],
   "source": [
    "learn.save('fine_tuned')"
   ]
  },
  {
   "cell_type": "code",
   "execution_count": 27,
   "metadata": {
    "colab": {},
    "colab_type": "code",
    "id": "8c_s02vc6yge"
   },
   "outputs": [],
   "source": [
    "# learn.load('fine_tuned');"
   ]
  },
  {
   "cell_type": "code",
   "execution_count": 28,
   "metadata": {
    "colab": {},
    "colab_type": "code",
    "id": "v0bre4kF6ygp"
   },
   "outputs": [],
   "source": [
    "# TEXT = \"I liked this movie because\"\n",
    "# N_WORDS = 40\n",
    "# N_SENTENCES = 2"
   ]
  },
  {
   "cell_type": "code",
   "execution_count": 29,
   "metadata": {
    "colab": {},
    "colab_type": "code",
    "id": "7aBCwgjm6ygs",
    "outputId": "65897010-a418-4c6f-8ba7-42b1cbe4d035"
   },
   "outputs": [],
   "source": [
    "# print(\"\\n\".join(learn.predict(TEXT, N_WORDS, temperature=0.75) for _ in range(N_SENTENCES)))"
   ]
  },
  {
   "cell_type": "code",
   "execution_count": 30,
   "metadata": {
    "colab": {},
    "colab_type": "code",
    "id": "lofhh9XN6ygv"
   },
   "outputs": [],
   "source": [
    "learn.save_encoder('fine_tuned_enc')"
   ]
  },
  {
   "cell_type": "markdown",
   "metadata": {
    "colab_type": "text",
    "id": "DH1ziz7m6ygx"
   },
   "source": [
    "## Classifier"
   ]
  },
  {
   "cell_type": "markdown",
   "metadata": {
    "colab_type": "text",
    "id": "_oAzlf-86ygx"
   },
   "source": [
    "Now, we'll create a new data object that only grabs the labelled data and keeps those labels. Again, this line takes a bit of time."
   ]
  },
  {
   "cell_type": "code",
   "execution_count": 31,
   "metadata": {
    "colab": {},
    "colab_type": "code",
    "id": "lChIzdtY6ygy"
   },
   "outputs": [],
   "source": [
    "path = untar_data(URLs.IMDB)"
   ]
  },
  {
   "cell_type": "code",
   "execution_count": 32,
   "metadata": {},
   "outputs": [],
   "source": [
    "# classification = classification.reset_index()\n",
    "# classification = classification.drop('index', axis=1)\n",
    "# classification.to_csv('../working/classification.csv', index=False)"
   ]
  },
  {
   "cell_type": "code",
   "execution_count": 33,
   "metadata": {},
   "outputs": [],
   "source": [
    "# for a in os.listdir('/tmp/.fastai/data/imdb/test/pos/')[:7000]:\n",
    "#     with open(f'/tmp/.fastai/data/imdb/test/pos/{a}', 'r') as file:\n",
    "#         data = file.read().replace('\\n', '')\n",
    "#         dict1 = {'review': str(data), 'rating': str('pos')}\n",
    "#         classification = classification.append(dict1, ignore_index=True)\n",
    "# #         language.loc[7087+i]['review'] = data   "
   ]
  },
  {
   "cell_type": "code",
   "execution_count": 34,
   "metadata": {},
   "outputs": [],
   "source": [
    "# for a in os.listdir('/tmp/.fastai/data/imdb/train/neg/')[7000:10000]:\n",
    "#     with open(f'/tmp/.fastai/data/imdb/train/neg/{a}', 'r') as file:\n",
    "#         data = file.read().replace('\\n', '')\n",
    "#         dict1 = {'review': str(data), 'rating': str('neg')}\n",
    "#         classification = classification.append(dict1, ignore_index=True)\n",
    "# #         language.loc[7087+i]['review'] = data   "
   ]
  },
  {
   "cell_type": "code",
   "execution_count": 35,
   "metadata": {},
   "outputs": [],
   "source": [
    "bs = 32\n",
    "data_clas = (TextList.from_csv('../working', 'language.csv', vocab=data_lm.train_ds.vocab, cols='review')\n",
    "                   .split_by_rand_pct(0.1)\n",
    "                   .label_from_df(cols='rating')\n",
    "                   .databunch(bs=bs))\n",
    "data_clas.save('../working/data_lm.pkl')\n",
    "\n",
    "# data_lm = (TextList.from_csv(path='../working',csv_name='language.csv', cols='review')\n",
    "#            #Inputs: all the text files in path\n",
    "# #             .filter_by_folder(include=['train', 'test', 'unsup']) \n",
    "#            #We may have other temp folders that contain text files so we only keep what's in train and test\n",
    "#             .split_by_rand_pct(0.1)\n",
    "#            #We randomly split and keep 10% (10,000 reviews) for validation\n",
    "#             .label_for_lm()           \n",
    "#            #We want to do a language model so we label accordingly\n",
    "#             .databunch(bs=bs))"
   ]
  },
  {
   "cell_type": "code",
   "execution_count": 36,
   "metadata": {
    "colab": {},
    "colab_type": "code",
    "id": "MtspRP6q6yhU",
    "outputId": "221b8b08-da95-4322-a2d2-525097056ca0"
   },
   "outputs": [
    {
     "data": {
      "text/html": [
       "<table border=\"1\" class=\"dataframe\">\n",
       "  <thead>\n",
       "    <tr style=\"text-align: right;\">\n",
       "      <th>text</th>\n",
       "      <th>target</th>\n",
       "    </tr>\n",
       "  </thead>\n",
       "  <tbody>\n",
       "    <tr>\n",
       "      <td>xxbos xxmaj match 1 : xxmaj tag xxmaj team xxmaj table xxmaj match xxmaj bubba xxmaj ray and xxmaj spike xxmaj dudley vs xxmaj eddie xxmaj guerrero and xxmaj chris xxmaj benoit xxmaj bubba xxmaj ray and xxmaj spike xxmaj dudley started things off with a xxmaj tag xxmaj team xxmaj table xxmaj match against xxmaj eddie xxmaj guerrero and xxmaj chris xxmaj benoit . xxmaj according to the rules</td>\n",
       "      <td>pos</td>\n",
       "    </tr>\n",
       "    <tr>\n",
       "      <td>xxbos xxmaj god ! xxmaj zorro has been the the subject of about as many movies as xxmaj tarzan , and probably had about as many actors in the title role . \\n \\n  xxmaj this xxmaj serial is one of my own personal favourites , and as previously stated , it is one of the xxmaj top 5 xxmaj sound xxmaj serials . xxmaj oddly enough , this</td>\n",
       "      <td>pos</td>\n",
       "    </tr>\n",
       "    <tr>\n",
       "      <td>xxbos \" xxmaj fever xxmaj pitch \" is n't a bad film ; it 's a terrible film . \\n \\n  xxmaj is it possible xxmaj american movie audiences and critics are so numbed and lobotomized by the excrement that xxmaj hollywood churns out that they 'll praise to the skies even a mediocre film with barely any laughs ? xxmaj that 's the only reason i can think</td>\n",
       "      <td>neg</td>\n",
       "    </tr>\n",
       "    <tr>\n",
       "      <td>xxbos xxmaj after reading the previous comments , i 'm just glad that i was n't the only person left confused , especially by the last 20 minutes . xxmaj john xxmaj carradine is shown twice walking down into a grave and pulling the lid shut after him . i anxiously awaited some kind of explanation for this odd behavior ... naturally i assumed he had something to do with</td>\n",
       "      <td>neg</td>\n",
       "    </tr>\n",
       "    <tr>\n",
       "      <td>xxbos i figured that it 's about time i let this one out . xxmaj pokémon fans are suffering in xxmaj america these days . xxmaj why ? xxmaj because we rely on xxmaj kids xxup wb and 4kids xxmaj entertainment to provide us with our beloved series and movies . xxmaj as far as the series goes , they do a pretty good job in bringing the fun and</td>\n",
       "      <td>neg</td>\n",
       "    </tr>\n",
       "  </tbody>\n",
       "</table>"
      ],
      "text/plain": [
       "<IPython.core.display.HTML object>"
      ]
     },
     "metadata": {},
     "output_type": "display_data"
    }
   ],
   "source": [
    "data_clas.show_batch()"
   ]
  },
  {
   "cell_type": "markdown",
   "metadata": {
    "colab_type": "text",
    "id": "tsXJaJMJ6yhg"
   },
   "source": [
    "We can then create a model to classify those reviews and load the encoder we saved before."
   ]
  },
  {
   "cell_type": "code",
   "execution_count": 37,
   "metadata": {
    "colab": {},
    "colab_type": "code",
    "id": "WlS4kj-B6yhh"
   },
   "outputs": [
    {
     "data": {
      "text/plain": [
       "RNNLearner(data=TextClasDataBunch;\n",
       "\n",
       "Train: LabelList (29982 items)\n",
       "x: TextList\n",
       "xxbos xxmaj loved the stay at the hotel . xxmaj they upgraded our room to a nice pool facing club room . xxmaj food was amazing . xxmaj breakfast spread tooo good . xxmaj pool is fantastic . xxmaj alchemy bar rocking . xxmaj staff took kind n hospitable including xxunk xxmaj xxunk and xxmaj xxunk ... such nice people . xxmaj and chef xxmaj jackson xxunk was soo cool making that amazing fusion of xxmaj nacho xxmaj xxunk xxmaj chaat at xxmaj alchemy xxmaj bar on the rooftop . xxmaj chef xxmaj janet also was so kind and hospitable and she prepared the coolest pancakes for my daughter xxrep 4 . she said they were the best ever xxrep 4 . beat me to it xxmaj haha . xxmaj this hotel is close to everything . xxmaj definitely recommend this hotel .,xxbos xxmaj good , quick service . xxmaj floor manager xxmaj xxunk is very efficient . xxmaj akash , from housekeeping , is also worth mentioning . xxmaj good location , right in the heart of xxmaj bangalore city . xxmaj easy access to malls , restaurants & pubs .,xxbos xxmaj room was well maintained and service was good and ontime .. xxmaj xxunk room service was good and courteous ... xxmaj one should n’t skip breakfast and one should try xxmaj south xxmaj indian dosa and daal vada ... do try once and i hope you will not be disappointed,xxbos xxmaj chancery xxmaj xxunk is good hotel for family as well as for business purpose . xxmaj good service and courteous staff . xxmaj must experience their brewery at top . xxmaj good spread of morning breakfast to start a great day .,xxbos xxmaj hi , xxmaj recently , i have stayed in xxmaj chancery xxmaj pavilion hotel for xxunk with my fiancee . xxmaj my xxmaj xxunk got robbed from my xxunk i enquired about my money , hotel security team has investigated the matter . xxmaj in xxup cctv footage camera , it was clearly seen that robbery has happened because of housekeeping staff but hotel is denying to help a female . xxmaj it is a mental & financial harassment for me . xxmaj after being a 5star hotel , if they behave like this , then it 's a complete waste to stay in this hotel . xxmaj its a horrific incident for me being a female . xxunk xxmaj negi\n",
       "y: CategoryList\n",
       "pos,pos,pos,pos,neg\n",
       "Path: ../working;\n",
       "\n",
       "Valid: LabelList (3331 items)\n",
       "x: TextList\n",
       "xxbos xxmaj it was awesome stay ... delicious food and great hospitality offered by al staff .. specially thanks to xxmaj pallavi for making our stay memorable ... rooms were clean .. greeting at reception and check in process was too smooth n friendly,xxbos xxmaj this will be a different kind of review . i 've seen this movie twice on xxup tv and would like to have a copy because it talks about xxmaj panama xxmaj city and the beach in the winter time which is my favorite time to be there . xxmaj it was the first movie i 'd seen by xxmaj ashley xxmaj judd and she was great and i 've enjoyed every other thing i 've seen her in . xxmaj sundance 's reaction made an impression on me too , as did the director , xxmaj victor xxmaj nunez , who has directed and written several movies about xxmaj florida . xxmaj this movie speaks to me and i 've seen nothing with which to compare it . xxmaj the plot speaks less to me than the surroundings . xxmaj well , i told you it would be a different kind of review .,xxbos xxup the xxup xxunk was , uh , interesting . xxmaj it certainly did n't kill me during its hour and a half duration , but it did n't impress me much either . a group of kids are abducted in an alley by xxunk mutants ( in a scene featuring cinema 's least convincing head crushing sound effect ) and taken to a fancy house in the suburbs . xxmaj here xxmaj dr. xxmaj divine and his team are performing brain transplants for his rich old patients so they can have young bodies again . xxmaj hey , this was quietly remade with a big budget a few years later as xxup xxunk ! xxmaj who knew that when you transplant an old person 's brain into a different body that their new voice will sound exactly like their old voice ? xxmaj with all this talk of xxunk xxunk and the use of a glowing green serum , you can almost see visions of xxup from xxup beyond and xxup re - xxup animator dancing in the producers ' heads . xxmaj but the production literally does n't have the guts to pull it off . i 've never understood why , when someone is making a low budget horror film , that they do n't pack it to the edge of the frame with gore . xxmaj the acting is uniformly terrible , with the only good performance coming from xxmaj clarke xxmaj xxunk as the assistant xxmaj dr. xxmaj price . xxmaj he has a nice evil laugh . xxmaj the only other thing of note about xxup the xxup xxunk is that it features lots of old people doing their own stunts . xxmaj seriously , most of the cast takes some serious bumps for old folks .,xxbos xxmaj it 's hard to imagine that anyone could find this short their favorite if they have seen most of their shorts , but i know that humor is xxup very subjective . i have seen all of their sound shorts ( by far the best of their stuff xxup imo ) and i found this one of their weaker efforts . \n",
       " \n",
       "  xxmaj in the year this was made ( 1930 ) xxmaj stan and xxmaj babe made 15 shorts and one feature . xxmaj they were extremely popular and their boss xxmaj hal xxmaj roach took full advantage by keeping them working constantly . xxmaj in addition , this was a time of experimentation for the writers and xxmaj stan . i would say this was an experiment that really did not work . xxmaj as someone else said , it does not play to their strengths . xxmaj too much dialog and plot . \n",
       " \n",
       "  xxmaj the best part of this one for me is the largely improvised sequence with xxmaj stan as xxmaj agnes the maid and the great xxmaj thelma xxmaj todd talking about \" girl \" stuff . \n",
       " \n",
       "  xxmaj if you really want to see the boys at their most creative and funny check out xxmaj xxunk , or xxmaj brats xxmaj from the same year . \n",
       " \n",
       "  xxmaj they made so many shorts in such a short time that i think they can be forgiven for turning out a few less then par shorts . xxmaj they made something like 108 films altogether . xxmaj very few ( except for the ones made at xxup fox ) were outright failures but there are some . xxmaj county xxmaj hospital , xxmaj me xxmaj and xxmaj my xxmaj pal , xxmaj the xxmaj live xxmaj ghost , xxmaj the xxmaj fixer xxmaj uppers come to mind as essentially weak ones . xxmaj but other then those i find something wonderful in just about all their shorts . xxmaj quite a record in my book . \n",
       " \n",
       "  xxmaj if you have seen and enjoyed all their other shorts then by all means check this one out , but i would be willing to bet that this one was less then memorable to xxmaj stan and xxmaj babe .,xxbos xxmaj all this talk about this being a bad movie is nonsense . xxmaj as a matter of fact this is the best movie i 've ever seen . xxmaj it 's an excellent story and the actors in the movie are some of the best . i would not give criticism to any of the actors . xxmaj that movie is the best and it will always stay that way .\n",
       "y: CategoryList\n",
       "pos,pos,neg,neg,pos\n",
       "Path: ../working;\n",
       "\n",
       "Test: None, model=SequentialRNN(\n",
       "  (0): MultiBatchEncoder(\n",
       "    (module): AWD_LSTM(\n",
       "      (encoder): Embedding(37016, 400, padding_idx=1)\n",
       "      (encoder_dp): EmbeddingDropout(\n",
       "        (emb): Embedding(37016, 400, padding_idx=1)\n",
       "      )\n",
       "      (rnns): ModuleList(\n",
       "        (0): WeightDropout(\n",
       "          (module): LSTM(400, 1152, batch_first=True)\n",
       "        )\n",
       "        (1): WeightDropout(\n",
       "          (module): LSTM(1152, 1152, batch_first=True)\n",
       "        )\n",
       "        (2): WeightDropout(\n",
       "          (module): LSTM(1152, 400, batch_first=True)\n",
       "        )\n",
       "      )\n",
       "      (input_dp): RNNDropout()\n",
       "      (hidden_dps): ModuleList(\n",
       "        (0): RNNDropout()\n",
       "        (1): RNNDropout()\n",
       "        (2): RNNDropout()\n",
       "      )\n",
       "    )\n",
       "  )\n",
       "  (1): PoolingLinearClassifier(\n",
       "    (layers): Sequential(\n",
       "      (0): BatchNorm1d(1200, eps=1e-05, momentum=0.1, affine=True, track_running_stats=True)\n",
       "      (1): Dropout(p=0.2, inplace=False)\n",
       "      (2): Linear(in_features=1200, out_features=50, bias=True)\n",
       "      (3): ReLU(inplace=True)\n",
       "      (4): BatchNorm1d(50, eps=1e-05, momentum=0.1, affine=True, track_running_stats=True)\n",
       "      (5): Dropout(p=0.1, inplace=False)\n",
       "      (6): Linear(in_features=50, out_features=2, bias=True)\n",
       "    )\n",
       "  )\n",
       "), opt_func=functools.partial(<class 'torch.optim.adam.Adam'>, betas=(0.9, 0.99)), loss_func=FlattenedLoss of CrossEntropyLoss(), metrics=[<function accuracy at 0x7f63f302b048>], true_wd=True, bn_wd=True, wd=0.01, train_bn=True, path=PosixPath('../working'), model_dir='../working/', callback_fns=[functools.partial(<class 'fastai.basic_train.Recorder'>, add_time=True, silent=False)], callbacks=[RNNTrainer\n",
       "learn: RNNLearner(data=TextClasDataBunch;\n",
       "\n",
       "Train: LabelList (29982 items)\n",
       "x: TextList\n",
       "xxbos xxmaj loved the stay at the hotel . xxmaj they upgraded our room to a nice pool facing club room . xxmaj food was amazing . xxmaj breakfast spread tooo good . xxmaj pool is fantastic . xxmaj alchemy bar rocking . xxmaj staff took kind n hospitable including xxunk xxmaj xxunk and xxmaj xxunk ... such nice people . xxmaj and chef xxmaj jackson xxunk was soo cool making that amazing fusion of xxmaj nacho xxmaj xxunk xxmaj chaat at xxmaj alchemy xxmaj bar on the rooftop . xxmaj chef xxmaj janet also was so kind and hospitable and she prepared the coolest pancakes for my daughter xxrep 4 . she said they were the best ever xxrep 4 . beat me to it xxmaj haha . xxmaj this hotel is close to everything . xxmaj definitely recommend this hotel .,xxbos xxmaj good , quick service . xxmaj floor manager xxmaj xxunk is very efficient . xxmaj akash , from housekeeping , is also worth mentioning . xxmaj good location , right in the heart of xxmaj bangalore city . xxmaj easy access to malls , restaurants & pubs .,xxbos xxmaj room was well maintained and service was good and ontime .. xxmaj xxunk room service was good and courteous ... xxmaj one should n’t skip breakfast and one should try xxmaj south xxmaj indian dosa and daal vada ... do try once and i hope you will not be disappointed,xxbos xxmaj chancery xxmaj xxunk is good hotel for family as well as for business purpose . xxmaj good service and courteous staff . xxmaj must experience their brewery at top . xxmaj good spread of morning breakfast to start a great day .,xxbos xxmaj hi , xxmaj recently , i have stayed in xxmaj chancery xxmaj pavilion hotel for xxunk with my fiancee . xxmaj my xxmaj xxunk got robbed from my xxunk i enquired about my money , hotel security team has investigated the matter . xxmaj in xxup cctv footage camera , it was clearly seen that robbery has happened because of housekeeping staff but hotel is denying to help a female . xxmaj it is a mental & financial harassment for me . xxmaj after being a 5star hotel , if they behave like this , then it 's a complete waste to stay in this hotel . xxmaj its a horrific incident for me being a female . xxunk xxmaj negi\n",
       "y: CategoryList\n",
       "pos,pos,pos,pos,neg\n",
       "Path: ../working;\n",
       "\n",
       "Valid: LabelList (3331 items)\n",
       "x: TextList\n",
       "xxbos xxmaj it was awesome stay ... delicious food and great hospitality offered by al staff .. specially thanks to xxmaj pallavi for making our stay memorable ... rooms were clean .. greeting at reception and check in process was too smooth n friendly,xxbos xxmaj this will be a different kind of review . i 've seen this movie twice on xxup tv and would like to have a copy because it talks about xxmaj panama xxmaj city and the beach in the winter time which is my favorite time to be there . xxmaj it was the first movie i 'd seen by xxmaj ashley xxmaj judd and she was great and i 've enjoyed every other thing i 've seen her in . xxmaj sundance 's reaction made an impression on me too , as did the director , xxmaj victor xxmaj nunez , who has directed and written several movies about xxmaj florida . xxmaj this movie speaks to me and i 've seen nothing with which to compare it . xxmaj the plot speaks less to me than the surroundings . xxmaj well , i told you it would be a different kind of review .,xxbos xxup the xxup xxunk was , uh , interesting . xxmaj it certainly did n't kill me during its hour and a half duration , but it did n't impress me much either . a group of kids are abducted in an alley by xxunk mutants ( in a scene featuring cinema 's least convincing head crushing sound effect ) and taken to a fancy house in the suburbs . xxmaj here xxmaj dr. xxmaj divine and his team are performing brain transplants for his rich old patients so they can have young bodies again . xxmaj hey , this was quietly remade with a big budget a few years later as xxup xxunk ! xxmaj who knew that when you transplant an old person 's brain into a different body that their new voice will sound exactly like their old voice ? xxmaj with all this talk of xxunk xxunk and the use of a glowing green serum , you can almost see visions of xxup from xxup beyond and xxup re - xxup animator dancing in the producers ' heads . xxmaj but the production literally does n't have the guts to pull it off . i 've never understood why , when someone is making a low budget horror film , that they do n't pack it to the edge of the frame with gore . xxmaj the acting is uniformly terrible , with the only good performance coming from xxmaj clarke xxmaj xxunk as the assistant xxmaj dr. xxmaj price . xxmaj he has a nice evil laugh . xxmaj the only other thing of note about xxup the xxup xxunk is that it features lots of old people doing their own stunts . xxmaj seriously , most of the cast takes some serious bumps for old folks .,xxbos xxmaj it 's hard to imagine that anyone could find this short their favorite if they have seen most of their shorts , but i know that humor is xxup very subjective . i have seen all of their sound shorts ( by far the best of their stuff xxup imo ) and i found this one of their weaker efforts . \n",
       " \n",
       "  xxmaj in the year this was made ( 1930 ) xxmaj stan and xxmaj babe made 15 shorts and one feature . xxmaj they were extremely popular and their boss xxmaj hal xxmaj roach took full advantage by keeping them working constantly . xxmaj in addition , this was a time of experimentation for the writers and xxmaj stan . i would say this was an experiment that really did not work . xxmaj as someone else said , it does not play to their strengths . xxmaj too much dialog and plot . \n",
       " \n",
       "  xxmaj the best part of this one for me is the largely improvised sequence with xxmaj stan as xxmaj agnes the maid and the great xxmaj thelma xxmaj todd talking about \" girl \" stuff . \n",
       " \n",
       "  xxmaj if you really want to see the boys at their most creative and funny check out xxmaj xxunk , or xxmaj brats xxmaj from the same year . \n",
       " \n",
       "  xxmaj they made so many shorts in such a short time that i think they can be forgiven for turning out a few less then par shorts . xxmaj they made something like 108 films altogether . xxmaj very few ( except for the ones made at xxup fox ) were outright failures but there are some . xxmaj county xxmaj hospital , xxmaj me xxmaj and xxmaj my xxmaj pal , xxmaj the xxmaj live xxmaj ghost , xxmaj the xxmaj fixer xxmaj uppers come to mind as essentially weak ones . xxmaj but other then those i find something wonderful in just about all their shorts . xxmaj quite a record in my book . \n",
       " \n",
       "  xxmaj if you have seen and enjoyed all their other shorts then by all means check this one out , but i would be willing to bet that this one was less then memorable to xxmaj stan and xxmaj babe .,xxbos xxmaj all this talk about this being a bad movie is nonsense . xxmaj as a matter of fact this is the best movie i 've ever seen . xxmaj it 's an excellent story and the actors in the movie are some of the best . i would not give criticism to any of the actors . xxmaj that movie is the best and it will always stay that way .\n",
       "y: CategoryList\n",
       "pos,pos,neg,neg,pos\n",
       "Path: ../working;\n",
       "\n",
       "Test: None, model=SequentialRNN(\n",
       "  (0): MultiBatchEncoder(\n",
       "    (module): AWD_LSTM(\n",
       "      (encoder): Embedding(37016, 400, padding_idx=1)\n",
       "      (encoder_dp): EmbeddingDropout(\n",
       "        (emb): Embedding(37016, 400, padding_idx=1)\n",
       "      )\n",
       "      (rnns): ModuleList(\n",
       "        (0): WeightDropout(\n",
       "          (module): LSTM(400, 1152, batch_first=True)\n",
       "        )\n",
       "        (1): WeightDropout(\n",
       "          (module): LSTM(1152, 1152, batch_first=True)\n",
       "        )\n",
       "        (2): WeightDropout(\n",
       "          (module): LSTM(1152, 400, batch_first=True)\n",
       "        )\n",
       "      )\n",
       "      (input_dp): RNNDropout()\n",
       "      (hidden_dps): ModuleList(\n",
       "        (0): RNNDropout()\n",
       "        (1): RNNDropout()\n",
       "        (2): RNNDropout()\n",
       "      )\n",
       "    )\n",
       "  )\n",
       "  (1): PoolingLinearClassifier(\n",
       "    (layers): Sequential(\n",
       "      (0): BatchNorm1d(1200, eps=1e-05, momentum=0.1, affine=True, track_running_stats=True)\n",
       "      (1): Dropout(p=0.2, inplace=False)\n",
       "      (2): Linear(in_features=1200, out_features=50, bias=True)\n",
       "      (3): ReLU(inplace=True)\n",
       "      (4): BatchNorm1d(50, eps=1e-05, momentum=0.1, affine=True, track_running_stats=True)\n",
       "      (5): Dropout(p=0.1, inplace=False)\n",
       "      (6): Linear(in_features=50, out_features=2, bias=True)\n",
       "    )\n",
       "  )\n",
       "), opt_func=functools.partial(<class 'torch.optim.adam.Adam'>, betas=(0.9, 0.99)), loss_func=FlattenedLoss of CrossEntropyLoss(), metrics=[<function accuracy at 0x7f63f302b048>], true_wd=True, bn_wd=True, wd=0.01, train_bn=True, path=PosixPath('../working'), model_dir='../working/', callback_fns=[functools.partial(<class 'fastai.basic_train.Recorder'>, add_time=True, silent=False)], callbacks=[...], layer_groups=[Sequential(\n",
       "  (0): Embedding(37016, 400, padding_idx=1)\n",
       "  (1): EmbeddingDropout(\n",
       "    (emb): Embedding(37016, 400, padding_idx=1)\n",
       "  )\n",
       "), Sequential(\n",
       "  (0): WeightDropout(\n",
       "    (module): LSTM(400, 1152, batch_first=True)\n",
       "  )\n",
       "  (1): RNNDropout()\n",
       "), Sequential(\n",
       "  (0): WeightDropout(\n",
       "    (module): LSTM(1152, 1152, batch_first=True)\n",
       "  )\n",
       "  (1): RNNDropout()\n",
       "), Sequential(\n",
       "  (0): WeightDropout(\n",
       "    (module): LSTM(1152, 400, batch_first=True)\n",
       "  )\n",
       "  (1): RNNDropout()\n",
       "), Sequential(\n",
       "  (0): PoolingLinearClassifier(\n",
       "    (layers): Sequential(\n",
       "      (0): BatchNorm1d(1200, eps=1e-05, momentum=0.1, affine=True, track_running_stats=True)\n",
       "      (1): Dropout(p=0.2, inplace=False)\n",
       "      (2): Linear(in_features=1200, out_features=50, bias=True)\n",
       "      (3): ReLU(inplace=True)\n",
       "      (4): BatchNorm1d(50, eps=1e-05, momentum=0.1, affine=True, track_running_stats=True)\n",
       "      (5): Dropout(p=0.1, inplace=False)\n",
       "      (6): Linear(in_features=50, out_features=2, bias=True)\n",
       "    )\n",
       "  )\n",
       ")], add_time=True, silent=False)\n",
       "alpha: 2.0\n",
       "beta: 1.0], layer_groups=[Sequential(\n",
       "  (0): Embedding(37016, 400, padding_idx=1)\n",
       "  (1): EmbeddingDropout(\n",
       "    (emb): Embedding(37016, 400, padding_idx=1)\n",
       "  )\n",
       "), Sequential(\n",
       "  (0): WeightDropout(\n",
       "    (module): LSTM(400, 1152, batch_first=True)\n",
       "  )\n",
       "  (1): RNNDropout()\n",
       "), Sequential(\n",
       "  (0): WeightDropout(\n",
       "    (module): LSTM(1152, 1152, batch_first=True)\n",
       "  )\n",
       "  (1): RNNDropout()\n",
       "), Sequential(\n",
       "  (0): WeightDropout(\n",
       "    (module): LSTM(1152, 400, batch_first=True)\n",
       "  )\n",
       "  (1): RNNDropout()\n",
       "), Sequential(\n",
       "  (0): PoolingLinearClassifier(\n",
       "    (layers): Sequential(\n",
       "      (0): BatchNorm1d(1200, eps=1e-05, momentum=0.1, affine=True, track_running_stats=True)\n",
       "      (1): Dropout(p=0.2, inplace=False)\n",
       "      (2): Linear(in_features=1200, out_features=50, bias=True)\n",
       "      (3): ReLU(inplace=True)\n",
       "      (4): BatchNorm1d(50, eps=1e-05, momentum=0.1, affine=True, track_running_stats=True)\n",
       "      (5): Dropout(p=0.1, inplace=False)\n",
       "      (6): Linear(in_features=50, out_features=2, bias=True)\n",
       "    )\n",
       "  )\n",
       ")], add_time=True, silent=False)"
      ]
     },
     "execution_count": 37,
     "metadata": {},
     "output_type": "execute_result"
    }
   ],
   "source": [
    "learn = text_classifier_learner(data_clas, AWD_LSTM, drop_mult=0.5, model_dir='../working/')\n",
    "learn.load_encoder('fine_tuned_enc')"
   ]
  },
  {
   "cell_type": "code",
   "execution_count": 38,
   "metadata": {
    "colab": {},
    "colab_type": "code",
    "id": "0LuCb-FS6yhp"
   },
   "outputs": [
    {
     "data": {
      "text/html": [],
      "text/plain": [
       "<IPython.core.display.HTML object>"
      ]
     },
     "metadata": {},
     "output_type": "display_data"
    },
    {
     "name": "stdout",
     "output_type": "stream",
     "text": [
      "LR Finder is complete, type {learner_name}.recorder.plot() to see the graph.\n"
     ]
    }
   ],
   "source": [
    "learn.lr_find()"
   ]
  },
  {
   "cell_type": "code",
   "execution_count": 39,
   "metadata": {
    "colab": {},
    "colab_type": "code",
    "id": "rrqEF9Qg6yhr"
   },
   "outputs": [
    {
     "data": {
      "image/png": "[encoded data removed]",
      "text/plain": [
       "<Figure size 432x288 with 1 Axes>"
      ]
     },
     "metadata": {
      "needs_background": "light"
     },
     "output_type": "display_data"
    }
   ],
   "source": [
    "learn.recorder.plot()"
   ]
  },
  {
   "cell_type": "code",
   "execution_count": 40,
   "metadata": {
    "colab": {},
    "colab_type": "code",
    "id": "T_Tay_7a6yhu",
    "outputId": "88196d7f-7476-450a-8d7d-e00e6699169f"
   },
   "outputs": [
    {
     "data": {
      "text/html": [
       "<table border=\"1\" class=\"dataframe\">\n",
       "  <thead>\n",
       "    <tr style=\"text-align: left;\">\n",
       "      <th>epoch</th>\n",
       "      <th>train_loss</th>\n",
       "      <th>valid_loss</th>\n",
       "      <th>accuracy</th>\n",
       "      <th>time</th>\n",
       "    </tr>\n",
       "  </thead>\n",
       "  <tbody>\n",
       "    <tr>\n",
       "      <td>0</td>\n",
       "      <td>0.362135</td>\n",
       "      <td>0.253638</td>\n",
       "      <td>0.901531</td>\n",
       "      <td>01:48</td>\n",
       "    </tr>\n",
       "  </tbody>\n",
       "</table>"
      ],
      "text/plain": [
       "<IPython.core.display.HTML object>"
      ]
     },
     "metadata": {},
     "output_type": "display_data"
    }
   ],
   "source": [
    "learn.fit_one_cycle(1, 2e-2, moms=(0.8,0.7))"
   ]
  },
  {
   "cell_type": "code",
   "execution_count": 41,
   "metadata": {
    "colab": {},
    "colab_type": "code",
    "id": "G5mg07QG6yiD"
   },
   "outputs": [],
   "source": [
    "learn.save('first')"
   ]
  },
  {
   "cell_type": "code",
   "execution_count": 42,
   "metadata": {
    "colab": {},
    "colab_type": "code",
    "id": "rfbFdPJf6yiF"
   },
   "outputs": [],
   "source": [
    "learn.load('first');"
   ]
  },
  {
   "cell_type": "code",
   "execution_count": 43,
   "metadata": {
    "colab": {},
    "colab_type": "code",
    "id": "ztnc5l4C6yiH",
    "outputId": "049116ee-22e5-415c-c312-7ac6bcc3b5f8"
   },
   "outputs": [
    {
     "data": {
      "text/html": [
       "<table border=\"1\" class=\"dataframe\">\n",
       "  <thead>\n",
       "    <tr style=\"text-align: left;\">\n",
       "      <th>epoch</th>\n",
       "      <th>train_loss</th>\n",
       "      <th>valid_loss</th>\n",
       "      <th>accuracy</th>\n",
       "      <th>time</th>\n",
       "    </tr>\n",
       "  </thead>\n",
       "  <tbody>\n",
       "    <tr>\n",
       "      <td>0</td>\n",
       "      <td>0.251374</td>\n",
       "      <td>0.193439</td>\n",
       "      <td>0.920444</td>\n",
       "      <td>02:28</td>\n",
       "    </tr>\n",
       "  </tbody>\n",
       "</table>"
      ],
      "text/plain": [
       "<IPython.core.display.HTML object>"
      ]
     },
     "metadata": {},
     "output_type": "display_data"
    }
   ],
   "source": [
    "learn.freeze_to(-2)\n",
    "learn.fit_one_cycle(1, slice(1e-2/(2.6**4),1e-2), moms=(0.8,0.7))"
   ]
  },
  {
   "cell_type": "code",
   "execution_count": 44,
   "metadata": {
    "colab": {},
    "colab_type": "code",
    "id": "-an1JhNs6yiJ"
   },
   "outputs": [],
   "source": [
    "learn.save('second')"
   ]
  },
  {
   "cell_type": "code",
   "execution_count": 45,
   "metadata": {
    "colab": {},
    "colab_type": "code",
    "id": "r1_G6me-6yiL"
   },
   "outputs": [],
   "source": [
    "learn.load('second');"
   ]
  },
  {
   "cell_type": "code",
   "execution_count": 46,
   "metadata": {
    "colab": {},
    "colab_type": "code",
    "id": "Qv29LMd86yiN",
    "outputId": "9d6bc2d2-41ad-4174-8962-585d43580f44"
   },
   "outputs": [
    {
     "data": {
      "text/html": [
       "<table border=\"1\" class=\"dataframe\">\n",
       "  <thead>\n",
       "    <tr style=\"text-align: left;\">\n",
       "      <th>epoch</th>\n",
       "      <th>train_loss</th>\n",
       "      <th>valid_loss</th>\n",
       "      <th>accuracy</th>\n",
       "      <th>time</th>\n",
       "    </tr>\n",
       "  </thead>\n",
       "  <tbody>\n",
       "    <tr>\n",
       "      <td>0</td>\n",
       "      <td>0.209334</td>\n",
       "      <td>0.163441</td>\n",
       "      <td>0.934554</td>\n",
       "      <td>03:33</td>\n",
       "    </tr>\n",
       "  </tbody>\n",
       "</table>"
      ],
      "text/plain": [
       "<IPython.core.display.HTML object>"
      ]
     },
     "metadata": {},
     "output_type": "display_data"
    }
   ],
   "source": [
    "learn.freeze_to(-3)\n",
    "learn.fit_one_cycle(1, slice(5e-3/(2.6**4),5e-3), moms=(0.8,0.7))"
   ]
  },
  {
   "cell_type": "code",
   "execution_count": 47,
   "metadata": {
    "colab": {},
    "colab_type": "code",
    "id": "m5MkdOF96yiS"
   },
   "outputs": [],
   "source": [
    "learn.save('third')"
   ]
  },
  {
   "cell_type": "code",
   "execution_count": 48,
   "metadata": {
    "colab": {},
    "colab_type": "code",
    "id": "w6c8Dpo66yiW"
   },
   "outputs": [],
   "source": [
    "learn.load('third');"
   ]
  },
  {
   "cell_type": "code",
   "execution_count": 49,
   "metadata": {
    "colab": {},
    "colab_type": "code",
    "id": "UzU4aOkz6yiY",
    "outputId": "52f9b0d9-62ab-4093-b29d-5b16e8a83377"
   },
   "outputs": [
    {
     "data": {
      "text/html": [
       "<table border=\"1\" class=\"dataframe\">\n",
       "  <thead>\n",
       "    <tr style=\"text-align: left;\">\n",
       "      <th>epoch</th>\n",
       "      <th>train_loss</th>\n",
       "      <th>valid_loss</th>\n",
       "      <th>accuracy</th>\n",
       "      <th>time</th>\n",
       "    </tr>\n",
       "  </thead>\n",
       "  <tbody>\n",
       "    <tr>\n",
       "      <td>0</td>\n",
       "      <td>0.175033</td>\n",
       "      <td>0.152788</td>\n",
       "      <td>0.937256</td>\n",
       "      <td>04:59</td>\n",
       "    </tr>\n",
       "    <tr>\n",
       "      <td>1</td>\n",
       "      <td>0.158975</td>\n",
       "      <td>0.158021</td>\n",
       "      <td>0.939057</td>\n",
       "      <td>03:40</td>\n",
       "    </tr>\n",
       "  </tbody>\n",
       "</table>"
      ],
      "text/plain": [
       "<IPython.core.display.HTML object>"
      ]
     },
     "metadata": {},
     "output_type": "display_data"
    }
   ],
   "source": [
    "learn.unfreeze()\n",
    "learn.fit_one_cycle(2, slice(1e-3/(2.6**4),1e-3), moms=(0.8,0.7))"
   ]
  },
  {
   "cell_type": "code",
   "execution_count": 50,
   "metadata": {
    "colab": {},
    "colab_type": "code",
    "id": "icHWUThx6yia",
    "outputId": "57774321-c152-4a05-cebe-0f3ebf0dea5f"
   },
   "outputs": [
    {
     "data": {
      "text/plain": [
       "(Category pos, tensor(1), tensor([0.0013, 0.9987]))"
      ]
     },
     "execution_count": 50,
     "metadata": {},
     "output_type": "execute_result"
    }
   ],
   "source": [
    "learn.predict(\"I really loved that movie, it was awesome!\")"
   ]
  }
 ],
 "metadata": {
  "accelerator": "GPU",
  "colab": {
   "name": "imdb_fastai",
   "provenance": [
    {
     "file_id": "https://github.com/fastai/course-v3/blob/master/nbs/dl1/lesson3-imdb.ipynb",
     "timestamp": 1572560712905
    }
   ]
  },
  "kernelspec": {
   "display_name": "Python 3",
   "name": "python3"
  },
  "language_info": {
   "codemirror_mode": {
    "name": "ipython",
    "version": 3
   },
   "file_extension": ".py",
   "mimetype": "text/x-python",
   "name": "python",
   "nbconvert_exporter": "python",
   "pygments_lexer": "ipython3",
   "version": "3.6.6"
  }
 },
 "nbformat": 4,
 "nbformat_minor": 1
}
